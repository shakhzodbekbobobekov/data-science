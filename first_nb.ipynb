{
  "nbformat": 4,
  "nbformat_minor": 0,
  "metadata": {
    "colab": {
      "provenance": [],
      "toc_visible": true,
      "gpuType": "T4",
      "authorship_tag": "ABX9TyMPm9lG3xPjj4q3tL+aMRMY",
      "include_colab_link": true
    },
    "kernelspec": {
      "name": "python3",
      "display_name": "Python 3"
    },
    "language_info": {
      "name": "python"
    },
    "accelerator": "GPU"
  },
  "cells": [
    {
      "cell_type": "markdown",
      "metadata": {
        "id": "view-in-github",
        "colab_type": "text"
      },
      "source": [
        "<a href=\"https://colab.research.google.com/github/shakhzodbekbobobekov/data-science/blob/main/first_nb.ipynb\" target=\"_parent\"><img src=\"https://colab.research.google.com/assets/colab-badge.svg\" alt=\"Open In Colab\"/></a>"
      ]
    },
    {
      "cell_type": "code",
      "source": [
        "import numpy as np"
      ],
      "metadata": {
        "id": "M7_Vjqn44XDT"
      },
      "execution_count": 11,
      "outputs": []
    },
    {
      "cell_type": "code",
      "source": [
        "names = np.array([ \"Hasan\", \"Husan\", \"Ali\", \"Vali\", \"Hasan\", \"Gani\" ])\n",
        "names"
      ],
      "metadata": {
        "colab": {
          "base_uri": "https://localhost:8080/"
        },
        "id": "PpTygZFTaRsw",
        "outputId": "33701bb2-f5b7-4cb8-dfbe-34a9d7b7a596"
      },
      "execution_count": 13,
      "outputs": [
        {
          "output_type": "execute_result",
          "data": {
            "text/plain": [
              "array(['Hasan', 'Husan', 'Ali', 'Vali', 'Hasan', 'Gani'], dtype='<U5')"
            ]
          },
          "metadata": {},
          "execution_count": 13
        }
      ]
    },
    {
      "cell_type": "code",
      "source": [
        "data = np.random.randn(6,4)\n",
        "data"
      ],
      "metadata": {
        "colab": {
          "base_uri": "https://localhost:8080/"
        },
        "id": "chQMyQB3amhc",
        "outputId": "17449910-8e06-4fe0-e7f1-45a162014f99"
      },
      "execution_count": 9,
      "outputs": [
        {
          "output_type": "execute_result",
          "data": {
            "text/plain": [
              "array([[ 0.45416968,  1.36120382,  1.08755057,  0.28006359],\n",
              "       [ 0.93084285,  1.64072202,  0.24412124, -0.59858386],\n",
              "       [ 0.41901029,  0.17496528, -0.41230129,  0.6287387 ],\n",
              "       [-0.87309641,  0.93398994, -0.99677291, -0.83669974],\n",
              "       [ 1.12453526,  0.37258874, -0.26238053, -0.18964896],\n",
              "       [-1.44216628, -2.18239872,  0.04421378, -0.92376506]])"
            ]
          },
          "metadata": {},
          "execution_count": 9
        }
      ]
    },
    {
      "cell_type": "code",
      "source": [
        "mask = (names == \"Hasan\") | (names == \"Ali\")"
      ],
      "metadata": {
        "id": "cuh09P3cfndk"
      },
      "execution_count": 26,
      "outputs": []
    },
    {
      "cell_type": "code",
      "source": [
        "data[ mask ]"
      ],
      "metadata": {
        "colab": {
          "base_uri": "https://localhost:8080/"
        },
        "id": "OMU7sb7CfvVB",
        "outputId": "3d3de3d1-12eb-4de6-e9e3-79d275892c92"
      },
      "execution_count": 28,
      "outputs": [
        {
          "output_type": "execute_result",
          "data": {
            "text/plain": [
              "array([[ 0.45416968,  1.36120382,  1.08755057,  0.28006359],\n",
              "       [ 0.41901029,  0.17496528, -0.41230129,  0.6287387 ],\n",
              "       [ 1.12453526,  0.37258874, -0.26238053, -0.18964896]])"
            ]
          },
          "metadata": {},
          "execution_count": 28
        }
      ]
    },
    {
      "cell_type": "code",
      "source": [
        "numbers = np.arange(6)\n",
        "numbers\n",
        "arr1 = np.random.randn(6)"
      ],
      "metadata": {
        "id": "XJkmdeZgtP1-"
      },
      "execution_count": 43,
      "outputs": []
    },
    {
      "cell_type": "code",
      "source": [
        "qoldiq, butun = np.modf(arr1)"
      ],
      "metadata": {
        "id": "Lfox00ketbCo"
      },
      "execution_count": 44,
      "outputs": []
    },
    {
      "cell_type": "code",
      "source": [
        "print(qoldiq)\n",
        "print(butun)"
      ],
      "metadata": {
        "colab": {
          "base_uri": "https://localhost:8080/"
        },
        "id": "yzpFYb-Ut1ke",
        "outputId": "29fc0141-9803-4a4e-cc3d-4012e4276c2d"
      },
      "execution_count": 45,
      "outputs": [
        {
          "output_type": "stream",
          "name": "stdout",
          "text": [
            "[-0.72730605 -0.03332238  0.68179854  0.99463709 -0.15115814  0.6953751 ]\n",
            "[-0. -0.  1.  0. -0.  0.]\n"
          ]
        }
      ]
    },
    {
      "cell_type": "code",
      "source": [
        "xarr1 = np.array([ 1.1, 1.2, 1.3, 1.4, 1.5 ])\n",
        "yarr1 = np.array([ 2.1, 2.2, 2.3, 2.4, 2.5 ])"
      ],
      "metadata": {
        "id": "seNSCtdOrMYR"
      },
      "execution_count": 7,
      "outputs": []
    },
    {
      "cell_type": "code",
      "source": [
        "cond = np.array([ True, False, True, True, False] )"
      ],
      "metadata": {
        "id": "muKGOdHZrit2"
      },
      "execution_count": 5,
      "outputs": []
    },
    {
      "cell_type": "code",
      "source": [
        "result = np.where(cond, xarr1, yarr1)\n",
        "result"
      ],
      "metadata": {
        "colab": {
          "base_uri": "https://localhost:8080/"
        },
        "id": "s4E9h7yorqN9",
        "outputId": "c14b2a02-e7ae-4c97-a735-87404ba0e943"
      },
      "execution_count": 8,
      "outputs": [
        {
          "output_type": "execute_result",
          "data": {
            "text/plain": [
              "array([1.1, 2.2, 1.3, 1.4, 2.5])"
            ]
          },
          "metadata": {},
          "execution_count": 8
        }
      ]
    },
    {
      "cell_type": "code",
      "source": [
        "arr = np.random.randn(4,4)\n",
        "arr"
      ],
      "metadata": {
        "colab": {
          "base_uri": "https://localhost:8080/"
        },
        "id": "fdShGn2VzTAB",
        "outputId": "dae5e87b-b008-4936-ae76-8b2b0de0b96b"
      },
      "execution_count": 9,
      "outputs": [
        {
          "output_type": "execute_result",
          "data": {
            "text/plain": [
              "array([[-0.78506178,  1.88687402,  1.15005522,  0.86308514],\n",
              "       [-0.72238405,  1.37454905,  1.07460523,  0.38293532],\n",
              "       [ 0.63871958, -0.23018422,  0.46379961,  0.98549798],\n",
              "       [-0.11747974, -2.08031817,  0.21964857, -0.69663547]])"
            ]
          },
          "metadata": {},
          "execution_count": 9
        }
      ]
    },
    {
      "cell_type": "code",
      "source": [
        "#where\n",
        "results = np.where(arr<0, -2, 2)\n",
        "results"
      ],
      "metadata": {
        "colab": {
          "base_uri": "https://localhost:8080/"
        },
        "id": "cOaQ7Q-rzZOi",
        "outputId": "80578f79-526a-448e-888f-842999a7cc0b"
      },
      "execution_count": 10,
      "outputs": [
        {
          "output_type": "execute_result",
          "data": {
            "text/plain": [
              "array([[-2,  2,  2,  2],\n",
              "       [-2,  2,  2,  2],\n",
              "       [ 2, -2,  2,  2],\n",
              "       [-2, -2,  2, -2]])"
            ]
          },
          "metadata": {},
          "execution_count": 10
        }
      ]
    },
    {
      "cell_type": "code",
      "source": [
        "arr1 = np.arange(6).reshape(2,3)\n",
        "arr2 = np.arange(6,12).reshape(2,3)\n",
        "\n",
        "arr1\n"
      ],
      "metadata": {
        "colab": {
          "base_uri": "https://localhost:8080/"
        },
        "id": "CxVHMG-00TKk",
        "outputId": "b8f12d96-e1f0-4d59-a56a-5420de6a832a"
      },
      "execution_count": 19,
      "outputs": [
        {
          "output_type": "execute_result",
          "data": {
            "text/plain": [
              "array([[0, 1, 2],\n",
              "       [3, 4, 5]])"
            ]
          },
          "metadata": {},
          "execution_count": 19
        }
      ]
    },
    {
      "cell_type": "code",
      "source": [
        "arr2"
      ],
      "metadata": {
        "colab": {
          "base_uri": "https://localhost:8080/"
        },
        "id": "OHuZMqqk1NkG",
        "outputId": "5301fa36-6c72-4c9d-85d8-239732156f74"
      },
      "execution_count": 20,
      "outputs": [
        {
          "output_type": "execute_result",
          "data": {
            "text/plain": [
              "array([[ 6,  7,  8],\n",
              "       [ 9, 10, 11]])"
            ]
          },
          "metadata": {},
          "execution_count": 20
        }
      ]
    },
    {
      "cell_type": "code",
      "source": [
        "arr1 * arr2 #bularning mos qiymatlari bir biriga kupaytiriladi."
      ],
      "metadata": {
        "colab": {
          "base_uri": "https://localhost:8080/"
        },
        "id": "CCwh0et91Q7i",
        "outputId": "fb77407b-ce29-45a8-b75f-db891d83bbd8"
      },
      "execution_count": 21,
      "outputs": [
        {
          "output_type": "execute_result",
          "data": {
            "text/plain": [
              "array([[ 0,  7, 16],\n",
              "       [27, 40, 55]])"
            ]
          },
          "metadata": {},
          "execution_count": 21
        }
      ]
    },
    {
      "cell_type": "code",
      "source": [
        "arr3 = np.arange(10).reshape(2,5)\n",
        "arr3"
      ],
      "metadata": {
        "colab": {
          "base_uri": "https://localhost:8080/"
        },
        "id": "E5P_ublO29aB",
        "outputId": "9f002b9a-899b-47c3-c972-97e958e415ac"
      },
      "execution_count": 13,
      "outputs": [
        {
          "output_type": "execute_result",
          "data": {
            "text/plain": [
              "array([[0, 1, 2, 3, 4],\n",
              "       [5, 6, 7, 8, 9]])"
            ]
          },
          "metadata": {},
          "execution_count": 13
        }
      ]
    },
    {
      "cell_type": "code",
      "source": [
        "arr3.sum(axis=1) #qatorlarni yigindisini hisoblaydi 0+1+2+3+4=10 // 5+6+7+8+9=35"
      ],
      "metadata": {
        "colab": {
          "base_uri": "https://localhost:8080/"
        },
        "id": "kqWQhL3M3Fdi",
        "outputId": "ecc95557-a58d-42b3-85ae-5bbd3c96ddf9"
      },
      "execution_count": 14,
      "outputs": [
        {
          "output_type": "execute_result",
          "data": {
            "text/plain": [
              "array([10, 35])"
            ]
          },
          "metadata": {},
          "execution_count": 14
        }
      ]
    },
    {
      "cell_type": "code",
      "source": [
        "arr3.sum(axis=0) # ustulardi yigindisini hisoblaydi 0+5=5 | 1+6=7 ......"
      ],
      "metadata": {
        "colab": {
          "base_uri": "https://localhost:8080/"
        },
        "id": "S5jIELJJMQCA",
        "outputId": "eda2c6eb-fba2-427c-e098-1809a00ed93c"
      },
      "execution_count": 15,
      "outputs": [
        {
          "output_type": "execute_result",
          "data": {
            "text/plain": [
              "array([ 5,  7,  9, 11, 13])"
            ]
          },
          "metadata": {},
          "execution_count": 15
        }
      ]
    },
    {
      "cell_type": "code",
      "source": [
        "#urta arifmetik\n",
        "data3 = np.arange(5)\n",
        "data3"
      ],
      "metadata": {
        "colab": {
          "base_uri": "https://localhost:8080/"
        },
        "id": "DhTd0OyNNHVO",
        "outputId": "53b97de1-727c-46bc-bb8d-20393e8a81be"
      },
      "execution_count": 19,
      "outputs": [
        {
          "output_type": "execute_result",
          "data": {
            "text/plain": [
              "array([0, 1, 2, 3, 4])"
            ]
          },
          "metadata": {},
          "execution_count": 19
        }
      ]
    },
    {
      "cell_type": "code",
      "source": [
        "mean1 = np.mean(data3)\n",
        "mean1 # 0+1+2+3+4=10/5=2"
      ],
      "metadata": {
        "colab": {
          "base_uri": "https://localhost:8080/"
        },
        "id": "kuVXu5-GNeB3",
        "outputId": "7e8b44a4-6757-45f0-e892-31436f1c9077"
      },
      "execution_count": 20,
      "outputs": [
        {
          "output_type": "execute_result",
          "data": {
            "text/plain": [
              "2.0"
            ]
          },
          "metadata": {},
          "execution_count": 20
        }
      ]
    },
    {
      "cell_type": "code",
      "source": [
        "data3.mean()"
      ],
      "metadata": {
        "colab": {
          "base_uri": "https://localhost:8080/"
        },
        "id": "Ua1rSd09NuPB",
        "outputId": "ed00cf30-0b9c-4205-cdfa-c5007c43626e"
      },
      "execution_count": 21,
      "outputs": [
        {
          "output_type": "execute_result",
          "data": {
            "text/plain": [
              "2.0"
            ]
          },
          "metadata": {},
          "execution_count": 21
        }
      ]
    }
  ]
}