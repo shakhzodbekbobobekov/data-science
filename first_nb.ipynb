{
  "nbformat": 4,
  "nbformat_minor": 0,
  "metadata": {
    "colab": {
      "provenance": [],
      "toc_visible": true,
      "gpuType": "T4",
      "authorship_tag": "ABX9TyOANwJiG+C4Kmw09sFLPDZ1",
      "include_colab_link": true
    },
    "kernelspec": {
      "name": "python3",
      "display_name": "Python 3"
    },
    "language_info": {
      "name": "python"
    },
    "accelerator": "GPU"
  },
  "cells": [
    {
      "cell_type": "markdown",
      "metadata": {
        "id": "view-in-github",
        "colab_type": "text"
      },
      "source": [
        "<a href=\"https://colab.research.google.com/github/shakhzodbekbobobekov/data-science/blob/main/first_nb.ipynb\" target=\"_parent\"><img src=\"https://colab.research.google.com/assets/colab-badge.svg\" alt=\"Open In Colab\"/></a>"
      ]
    },
    {
      "cell_type": "code",
      "source": [
        "import numpy as np"
      ],
      "metadata": {
        "id": "M7_Vjqn44XDT"
      },
      "execution_count": 1,
      "outputs": []
    },
    {
      "cell_type": "code",
      "source": [
        "names = np.array([ \"Hasan\", \"Husan\", \"Ali\", \"Vali\", \"Hasan\", \"Gani\" ])\n",
        "names"
      ],
      "metadata": {
        "colab": {
          "base_uri": "https://localhost:8080/"
        },
        "id": "PpTygZFTaRsw",
        "outputId": "33701bb2-f5b7-4cb8-dfbe-34a9d7b7a596"
      },
      "execution_count": 13,
      "outputs": [
        {
          "output_type": "execute_result",
          "data": {
            "text/plain": [
              "array(['Hasan', 'Husan', 'Ali', 'Vali', 'Hasan', 'Gani'], dtype='<U5')"
            ]
          },
          "metadata": {},
          "execution_count": 13
        }
      ]
    },
    {
      "cell_type": "code",
      "source": [
        "data = np.random.randn(6,4)\n",
        "data"
      ],
      "metadata": {
        "colab": {
          "base_uri": "https://localhost:8080/"
        },
        "id": "chQMyQB3amhc",
        "outputId": "17449910-8e06-4fe0-e7f1-45a162014f99"
      },
      "execution_count": 9,
      "outputs": [
        {
          "output_type": "execute_result",
          "data": {
            "text/plain": [
              "array([[ 0.45416968,  1.36120382,  1.08755057,  0.28006359],\n",
              "       [ 0.93084285,  1.64072202,  0.24412124, -0.59858386],\n",
              "       [ 0.41901029,  0.17496528, -0.41230129,  0.6287387 ],\n",
              "       [-0.87309641,  0.93398994, -0.99677291, -0.83669974],\n",
              "       [ 1.12453526,  0.37258874, -0.26238053, -0.18964896],\n",
              "       [-1.44216628, -2.18239872,  0.04421378, -0.92376506]])"
            ]
          },
          "metadata": {},
          "execution_count": 9
        }
      ]
    },
    {
      "cell_type": "code",
      "source": [
        "mask = (names == \"Hasan\") | (names == \"Ali\")"
      ],
      "metadata": {
        "id": "cuh09P3cfndk"
      },
      "execution_count": 26,
      "outputs": []
    },
    {
      "cell_type": "code",
      "source": [
        "data[ mask ]"
      ],
      "metadata": {
        "colab": {
          "base_uri": "https://localhost:8080/"
        },
        "id": "OMU7sb7CfvVB",
        "outputId": "3d3de3d1-12eb-4de6-e9e3-79d275892c92"
      },
      "execution_count": 28,
      "outputs": [
        {
          "output_type": "execute_result",
          "data": {
            "text/plain": [
              "array([[ 0.45416968,  1.36120382,  1.08755057,  0.28006359],\n",
              "       [ 0.41901029,  0.17496528, -0.41230129,  0.6287387 ],\n",
              "       [ 1.12453526,  0.37258874, -0.26238053, -0.18964896]])"
            ]
          },
          "metadata": {},
          "execution_count": 28
        }
      ]
    },
    {
      "cell_type": "code",
      "source": [
        "numbers = np.arange(6)\n",
        "numbers\n",
        "arr1 = np.random.randn(6)"
      ],
      "metadata": {
        "id": "XJkmdeZgtP1-"
      },
      "execution_count": 43,
      "outputs": []
    },
    {
      "cell_type": "code",
      "source": [
        "qoldiq, butun = np.modf(arr1)"
      ],
      "metadata": {
        "id": "Lfox00ketbCo"
      },
      "execution_count": 44,
      "outputs": []
    },
    {
      "cell_type": "code",
      "source": [
        "print(qoldiq)\n",
        "print(butun)"
      ],
      "metadata": {
        "colab": {
          "base_uri": "https://localhost:8080/"
        },
        "id": "yzpFYb-Ut1ke",
        "outputId": "29fc0141-9803-4a4e-cc3d-4012e4276c2d"
      },
      "execution_count": 45,
      "outputs": [
        {
          "output_type": "stream",
          "name": "stdout",
          "text": [
            "[-0.72730605 -0.03332238  0.68179854  0.99463709 -0.15115814  0.6953751 ]\n",
            "[-0. -0.  1.  0. -0.  0.]\n"
          ]
        }
      ]
    }
  ]
}