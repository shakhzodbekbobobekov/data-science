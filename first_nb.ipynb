{
  "nbformat": 4,
  "nbformat_minor": 0,
  "metadata": {
    "colab": {
      "provenance": [],
      "toc_visible": true,
      "gpuType": "T4",
      "authorship_tag": "ABX9TyOE7DCkAbH3pCa6XBh/0cC1",
      "include_colab_link": true
    },
    "kernelspec": {
      "name": "python3",
      "display_name": "Python 3"
    },
    "language_info": {
      "name": "python"
    },
    "accelerator": "GPU"
  },
  "cells": [
    {
      "cell_type": "markdown",
      "metadata": {
        "id": "view-in-github",
        "colab_type": "text"
      },
      "source": [
        "<a href=\"https://colab.research.google.com/github/shakhzodbekbobobekov/data-science/blob/main/first_nb.ipynb\" target=\"_parent\"><img src=\"https://colab.research.google.com/assets/colab-badge.svg\" alt=\"Open In Colab\"/></a>"
      ]
    },
    {
      "cell_type": "code",
      "source": [
        "import numpy as np"
      ],
      "metadata": {
        "id": "M7_Vjqn44XDT"
      },
      "execution_count": 1,
      "outputs": []
    },
    {
      "cell_type": "code",
      "source": [
        "names = np.array([ \"Hasan\", \"Husan\", \"Ali\", \"Vali\", \"Hasan\", \"Gani\" ])\n",
        "names"
      ],
      "metadata": {
        "colab": {
          "base_uri": "https://localhost:8080/"
        },
        "id": "PpTygZFTaRsw",
        "outputId": "33701bb2-f5b7-4cb8-dfbe-34a9d7b7a596"
      },
      "execution_count": 13,
      "outputs": [
        {
          "output_type": "execute_result",
          "data": {
            "text/plain": [
              "array(['Hasan', 'Husan', 'Ali', 'Vali', 'Hasan', 'Gani'], dtype='<U5')"
            ]
          },
          "metadata": {},
          "execution_count": 13
        }
      ]
    },
    {
      "cell_type": "code",
      "source": [
        "data = np.random.randn(6,4)\n",
        "data"
      ],
      "metadata": {
        "colab": {
          "base_uri": "https://localhost:8080/"
        },
        "id": "chQMyQB3amhc",
        "outputId": "17449910-8e06-4fe0-e7f1-45a162014f99"
      },
      "execution_count": 9,
      "outputs": [
        {
          "output_type": "execute_result",
          "data": {
            "text/plain": [
              "array([[ 0.45416968,  1.36120382,  1.08755057,  0.28006359],\n",
              "       [ 0.93084285,  1.64072202,  0.24412124, -0.59858386],\n",
              "       [ 0.41901029,  0.17496528, -0.41230129,  0.6287387 ],\n",
              "       [-0.87309641,  0.93398994, -0.99677291, -0.83669974],\n",
              "       [ 1.12453526,  0.37258874, -0.26238053, -0.18964896],\n",
              "       [-1.44216628, -2.18239872,  0.04421378, -0.92376506]])"
            ]
          },
          "metadata": {},
          "execution_count": 9
        }
      ]
    },
    {
      "cell_type": "code",
      "source": [
        "names == \"Hasan\"\n"
      ],
      "metadata": {
        "colab": {
          "base_uri": "https://localhost:8080/",
          "height": 106
        },
        "id": "vYrR0KG8bzPF",
        "outputId": "8a515fc5-428e-4bd9-e109-71bab866c2c4"
      },
      "execution_count": 11,
      "outputs": [
        {
          "output_type": "error",
          "ename": "SyntaxError",
          "evalue": "invalid syntax. Maybe you meant '==' or ':=' instead of '='? (<ipython-input-11-1e6b43bbf4c9>, line 2)",
          "traceback": [
            "\u001b[0;36m  File \u001b[0;32m\"<ipython-input-11-1e6b43bbf4c9>\"\u001b[0;36m, line \u001b[0;32m2\u001b[0m\n\u001b[0;31m    data[ names = \"Hasan\"]\u001b[0m\n\u001b[0m          ^\u001b[0m\n\u001b[0;31mSyntaxError\u001b[0m\u001b[0;31m:\u001b[0m invalid syntax. Maybe you meant '==' or ':=' instead of '='?\n"
          ]
        }
      ]
    },
    {
      "cell_type": "code",
      "source": [
        "data[ names == \"Hasan\"]"
      ],
      "metadata": {
        "colab": {
          "base_uri": "https://localhost:8080/"
        },
        "id": "w6YNEA9lcAo3",
        "outputId": "5a79dffa-6e93-4d75-f96f-b49b108bc163"
      },
      "execution_count": 15,
      "outputs": [
        {
          "output_type": "execute_result",
          "data": {
            "text/plain": [
              "array([[ 0.45416968,  1.36120382,  1.08755057,  0.28006359],\n",
              "       [ 1.12453526,  0.37258874, -0.26238053, -0.18964896]])"
            ]
          },
          "metadata": {},
          "execution_count": 15
        }
      ]
    }
  ]
}